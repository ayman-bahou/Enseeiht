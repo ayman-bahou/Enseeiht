{
 "cells": [
  {
   "cell_type": "markdown",
   "id": "f59e10b3-c58c-4577-9ef8-896e60b60092",
   "metadata": {},
   "source": [
    "# TP3 : Knapsack problem (Programmation Dynamique)"
   ]
  },
  {
   "cell_type": "markdown",
   "id": "b8771e2f-5502-4074-9d7e-19691183de3c",
   "metadata": {},
   "source": [
    "### Récupération des données"
   ]
  },
  {
   "cell_type": "code",
   "execution_count": 22,
   "id": "ed1889e6-40a0-4d46-87a7-2ebe2b741362",
   "metadata": {},
   "outputs": [
    {
     "data": {
      "text/plain": [
       "readKnaptxtInstance (generic function with 1 method)"
      ]
     },
     "execution_count": 22,
     "metadata": {},
     "output_type": "execute_result"
    }
   ],
   "source": [
    "function readKnaptxtInstance(filename)\n",
    "    price=Int64[]\n",
    "    weight=Int64[]\n",
    "    KnapCap=Int64[]\n",
    "    open(filename) do f\n",
    "        for i in 1:3\n",
    "            tok = split(readline(f))\n",
    "            if(tok[1] == \"ListPrices=\")\n",
    "                for i in 2:(length(tok)-1)\n",
    "                    push!(price,parse(Int64, tok[i]))\n",
    "                end\n",
    "            elseif(tok[1] == \"ListWeights=\")\n",
    "                for i in 2:(length(tok)-1)\n",
    "                    push!(weight,parse(Int64, tok[i]))\n",
    "                end\n",
    "            elseif(tok[1] == \"Capacity=\")\n",
    "                push!(KnapCap, parse(Int64, tok[2]))\n",
    "            else\n",
    "                println(\"Unknown read :\", tok)\n",
    "            end\n",
    "        end\n",
    "    end\n",
    "    capacity=KnapCap[1]\n",
    "    return price, weight, capacity\n",
    "end"
   ]
  },
  {
   "cell_type": "markdown",
   "id": "27f89fb9-20a7-4b1b-a39a-aafe1f810882",
   "metadata": {},
   "source": [
    "### Résolution du problème"
   ]
  },
  {
   "cell_type": "code",
   "execution_count": 23,
   "id": "cf2edad6-0860-4fb4-9343-c92c0f6cafff",
   "metadata": {},
   "outputs": [
    {
     "data": {
      "text/plain": [
       "solveKnapInstance (generic function with 1 method)"
      ]
     },
     "execution_count": 23,
     "metadata": {},
     "output_type": "execute_result"
    }
   ],
   "source": [
    "function solveKnapInstance(filename)\n",
    "\n",
    "    prix, poids, capacite = readKnaptxtInstance(filename)\n",
    "    n = length(prix)\n",
    "    MBenefice = zeros(Int, n+1, capacite+1)                    #Matrice de benefice \n",
    "    c = capacite\n",
    "    IObj = []                                                 # Indice des Objets Sélectionnés \n",
    "    \n",
    "    \n",
    "    # Remplire la matrice de bénéfice\n",
    "    for i in 2:(n+1)\n",
    "        for w in 2:(capacite+1)\n",
    "            # Cas où le poids est inférieur à la capacité\n",
    "            if poids[i-1]  < w\n",
    "                \n",
    "            # on prend le max entre le bénéfice  précédent et la somme du bénéfice précédent et  actuel\n",
    "                MBenefice[i, w] = max(MBenefice[i-1, w], MBenefice[i-1, w-poids[i-1]] + prix[i-1])\n",
    "                \n",
    "            # Cas où le poids est supérieur à la capacité\n",
    "            else\n",
    "                MBenefice[i, w] = MBenefice[i-1, w]\n",
    "            end\n",
    "        end\n",
    "    end\n",
    "\n",
    "    # Bénéfice maximal\n",
    "    bestProfit = MBenefice[n+1, capacite+1]\n",
    "\n",
    "    # Récupérer les objets mis dans le sac\n",
    "    for i in n+1:-1:2\n",
    "        if MBenefice[i, c+1] != MBenefice[i-1, c+1]\n",
    "            push!(IObj, i-1)\n",
    "            c -= poids[i-1]\n",
    "        end\n",
    "        if c <= 0\n",
    "            break\n",
    "        end     \n",
    "    end\n",
    "    \n",
    "    # Solution optimale\n",
    "    bestSol = zeros(Int, n)\n",
    "    for i in IObj\n",
    "        bestSol[i] = 1\n",
    "    end\n",
    "\n",
    "    return bestProfit, bestSol, MBenefice\n",
    "\n",
    "end\n"
   ]
  },
  {
   "cell_type": "markdown",
   "id": "c4e44e5e-cf43-4942-8e24-f3dbbcc293d3",
   "metadata": {},
   "source": [
    "### Affichage du résultat "
   ]
  },
  {
   "cell_type": "code",
   "execution_count": 24,
   "id": "9a3ee38e-926a-46fa-b6ea-80f44781806b",
   "metadata": {},
   "outputs": [
    {
     "data": {
      "text/plain": [
       "ShowKnapResolutionResult (generic function with 1 method)"
      ]
     },
     "execution_count": 24,
     "metadata": {},
     "output_type": "execute_result"
    }
   ],
   "source": [
    "function ShowKnapResolutionResult(filename)\n",
    "    bestProfit, bestSol, MBenefice = solveKnapInstance(filename)\n",
    "    println(\" Bénéfice maximale: \", bestProfit)\n",
    "    println(\" Objets mis dans le sac :\")\n",
    "    println(bestSol)\n",
    "    #println(\"Matrice des bénéfices :\")\n",
    "    #println(MBenefice)\n",
    "end"
   ]
  },
  {
   "cell_type": "code",
   "execution_count": 25,
   "id": "75ad7a4a-ee29-4240-86bc-01820d687c2e",
   "metadata": {},
   "outputs": [
    {
     "name": "stdout",
     "output_type": "stream",
     "text": [
      " Bénéfice maximale: 65\n",
      " Objets mis dans le sac :\n",
      "[0, 1, 0, 1]\n"
     ]
    }
   ],
   "source": [
    "# Résultats pour l'instance test.opb.txt\n",
    "ShowKnapResolutionResult(\"InstancesKnapSack/test.opb.txt\")"
   ]
  },
  {
   "cell_type": "code",
   "execution_count": 26,
   "id": "24b99bc3-7719-4f08-bf7e-bbd92ac60c00",
   "metadata": {},
   "outputs": [
    {
     "name": "stdout",
     "output_type": "stream",
     "text": [
      " Bénéfice maximale: 14390\n",
      " Objets mis dans le sac :\n",
      "[0, 1, 0, 0, 0, 0, 0, 0, 0, 0, 0, 0, 1, 0, 0, 0, 0, 0, 0, 0, 1, 0, 0, 0, 0, 0, 1, 0, 0, 1, 0, 0, 0, 0, 0, 0, 0, 0, 0, 0, 0, 0, 0, 0, 0, 0, 1, 0, 0, 0, 0, 0, 0, 0, 0, 0, 0, 0, 0, 0, 0, 0, 0, 0, 1, 0, 0, 0, 0, 0, 0, 0, 0, 0, 1, 0, 1, 0, 0, 0, 0, 0, 0, 0, 0, 1, 0, 0, 0, 1, 0, 0, 0, 0, 0, 0, 1, 0, 0, 0, 0, 0, 0, 0, 0, 0, 1, 0, 0, 0, 0, 0, 0, 1, 0, 0, 0, 0, 0, 0, 1, 0, 0, 0, 0, 0, 0, 0, 0, 0, 0, 0, 0, 0, 0, 0, 0, 0, 0, 0, 0, 0, 0, 0, 0, 0, 0, 1, 0, 0, 0, 0, 0, 0, 0, 0, 0, 1, 0, 0, 0, 0, 0, 1, 1, 0, 0, 0, 0, 1, 0, 0, 0, 0, 0, 0, 0, 0, 0, 0, 0, 0, 0, 0, 0, 0, 0, 0, 0, 0, 0, 0, 0, 0, 0, 0, 0, 0, 0, 0, 0, 0, 0, 1, 1, 0, 0, 0, 0, 0, 0, 1, 0, 0, 0, 0, 0, 0, 0, 0, 0, 0, 0, 0, 0, 0, 0, 0, 0, 0, 0, 0, 0, 1, 0, 0, 0, 0, 0, 0, 0, 0, 1, 0, 0, 0, 0, 0, 0, 0, 0, 0, 0, 0, 0, 0, 0, 0, 0, 0, 0, 0, 0, 0, 0, 1, 0, 0, 1, 0, 0, 1, 0, 1, 1, 0, 0, 0, 0, 0, 0, 0, 0, 0, 0, 0, 0, 0, 0, 0, 0, 0, 1, 0, 1, 0, 0, 0, 0, 0, 0, 0, 1, 0, 0, 0, 0, 1, 0, 0, 0, 0, 0, 0, 0, 0, 0, 0, 0, 0, 0, 0, 0, 1, 0, 0, 0, 0, 0, 0, 0, 0, 0, 0, 0, 0, 0, 0, 0, 0, 0, 0, 0, 1, 0, 0, 0, 0, 0, 0, 0, 0, 0, 0, 0, 0, 0, 0, 0, 0, 0, 0, 0, 0, 0, 0, 0, 0, 0, 0, 0, 0, 0, 0, 0, 1, 0, 0, 0, 0, 0, 0, 0, 0, 0, 0, 0, 0, 0, 0, 0, 1, 0, 0, 0, 0, 0, 0, 0, 0, 0, 0, 0, 0, 0, 0, 0, 0, 0, 0, 0, 0, 0, 0, 0, 0, 0, 0, 0, 0, 0, 0, 1, 1, 0, 0, 0, 0, 0, 0, 0, 0, 1, 0, 0, 0, 0, 0, 0, 0, 0, 0, 0, 0, 0, 0, 0, 0, 0, 0, 0, 0, 0, 0, 0, 0, 0, 0, 0, 0, 0, 0, 0, 0, 0, 0, 0, 0, 0, 0, 0, 0, 1, 0, 0, 1, 0, 0, 0, 1, 0, 0, 0, 1, 0, 0, 0, 0, 0, 0, 1, 1, 0, 0, 0, 0, 0, 0, 1, 0, 0, 0, 0, 0, 0, 1, 0, 0, 0, 0, 0, 0, 0, 0, 0, 0, 0, 0, 0, 0, 0, 0, 0, 0, 1, 0, 0, 0, 0, 0, 0, 0, 0, 0, 0, 0, 0, 0, 1, 0, 0, 0, 0, 0, 0, 0, 1, 0, 0, 0, 0, 0, 0, 0, 0, 0, 0, 0, 0, 0, 0, 0, 1, 0, 0, 0, 0, 1, 0, 0, 0, 0, 0, 0, 1, 0, 0, 0, 0, 0, 0, 0, 0, 1, 1, 0, 0, 0, 0, 1, 0, 0, 0, 0, 0, 0, 0, 1, 0, 0, 0, 0, 0, 0, 0, 0, 1, 1, 0, 0, 0, 0, 0, 0, 0, 0, 0, 0, 0, 0, 0, 0, 0, 0, 0, 0, 0, 0, 0, 0, 0, 0, 0, 0, 0, 0, 0, 1, 0, 0, 0, 0, 0, 0, 0, 0, 0, 0, 0, 0, 0, 0, 0, 0, 0, 0, 0, 0, 0, 1, 0, 0, 1, 1, 0, 1, 0, 0, 1, 0, 0, 0, 0, 0, 0, 1, 0, 0, 0, 0, 0, 0, 0, 0, 0, 0, 0, 0, 0, 0, 0, 0, 0, 0, 1, 0, 0, 0, 0, 0, 0, 0, 0, 0, 0, 0, 0, 0, 0, 0, 0, 0, 0, 0, 0, 0, 0, 0, 0, 0, 0, 1, 0, 0, 1, 0, 0, 0, 0, 0, 0, 0, 0, 0, 0, 0, 0, 0, 0, 1, 0, 0, 0, 0, 0, 0, 0, 0, 0, 0, 0, 0, 0, 0, 0, 0, 0, 1, 1, 0, 0, 0, 0, 0, 1, 0, 0, 1, 0, 0, 0, 0, 0, 0, 0, 0, 0, 0, 0, 0, 0, 0, 0, 0, 0, 0, 0, 0, 0, 0, 0, 0, 0, 0, 0, 0, 0, 0, 0, 0, 0, 0, 0, 0, 0, 0, 0, 0, 0, 0, 0, 0, 0, 0, 0, 0, 0, 0, 0, 0, 0, 0, 0, 0, 0, 0, 0, 0, 0, 0, 0, 0, 0, 1, 0, 0, 0, 0, 1, 0, 0, 0, 1, 0, 0, 0, 0, 0, 0, 1, 0, 1, 1, 0, 0, 1, 0, 0, 0, 0, 0, 0, 0, 0, 0, 0, 0, 0, 0, 0, 0, 0, 0, 0, 0, 0, 0, 0, 0, 0, 0, 0, 0, 1, 0, 0, 0, 0, 0, 0, 0, 0, 0, 0, 0, 1, 0, 0, 0, 0, 0, 0, 0, 0, 0, 0, 0, 0, 0, 1, 0, 0, 0, 0, 0, 0, 0, 0, 0, 0, 0, 1, 0, 0, 0, 0, 1, 0, 0, 0, 0, 0, 0, 0, 0, 0, 0, 0, 1, 0, 0, 0, 0, 0, 0, 0, 1, 0, 0, 0, 0, 0, 1, 0, 0, 0, 0, 0, 0, 1, 0, 0, 0, 0, 0, 0, 0, 0, 0, 0, 0, 0, 0, 0, 0, 0, 0, 0, 0, 0, 0, 0, 0, 0, 0, 0, 1, 0, 1, 0, 0, 0, 0, 0, 0, 0, 0, 0, 0, 0]\n"
     ]
    }
   ],
   "source": [
    "# Résultats pour l'instance almost_strongly_correlated/knapPI_5_50_1000_1_-2096.opb.txt\n",
    "ShowKnapResolutionResult(\"InstancesKnapSack/Strongly_Correlated/KnapSack_1000_1000_-14390.opb.txt\")"
   ]
  },
  {
   "cell_type": "code",
   "execution_count": 27,
   "id": "6ff0bb91-cf11-4399-8ea4-5cb908906c98",
   "metadata": {},
   "outputs": [
    {
     "name": "stdout",
     "output_type": "stream",
     "text": [
      " Bénéfice maximale: 995\n",
      " Objets mis dans le sac :\n",
      "[0, 0, 0, 0, 0, 0, 0, 0, 0, 0, 0, 0, 0, 0, 0, 0, 0, 0, 0, 0, 0, 0, 0, 0, 0, 0, 0, 0, 1, 0, 0, 0, 0, 0, 0, 0, 0, 0, 0, 0, 0, 0, 0, 0, 0, 0, 0, 0, 0, 0, 0, 0, 0, 0, 0, 0, 0, 0, 0, 0, 0, 0, 0, 0, 0, 0, 0, 0, 0, 0, 0, 0, 0, 0, 0, 0, 0, 0, 0, 0, 0, 0, 0, 0, 0, 0, 0, 0, 0, 0, 0, 0, 0, 0, 0, 0, 0, 0, 0, 0]\n"
     ]
    }
   ],
   "source": [
    "# Résultats pour l'instance inverse_strongly_correlated/knapPI_4_50_1000_1_-994.opb.txt\n",
    "ShowKnapResolutionResult(\"InstancesKnapSack/Similar_Weights/KnapSack_100_1000_-995.opb.txt\")"
   ]
  },
  {
   "cell_type": "code",
   "execution_count": 28,
   "id": "d642df4c-552d-4ecb-9477-676753804cee",
   "metadata": {},
   "outputs": [
    {
     "name": "stdout",
     "output_type": "stream",
     "text": [
      " Bénéfice maximale: 81021\n",
      " Objets mis dans le sac :\n",
      "[1, 0, 0, 0, 1, 0, 0, 0, 0, 0, 1, 0, 1, 0, 0, 0, 0, 0, 0, 0, 0, 0, 0, 1, 0, 1, 0, 0, 0, 1, 0, 0, 1, 0, 0, 0, 1, 0, 0, 0, 0, 0, 0, 0, 0, 0, 0, 0, 0, 0, 0, 0, 0, 0, 0, 0, 0, 0, 0, 0, 0, 0, 0, 0, 0, 0, 0, 0, 0, 0, 0, 0, 0, 0, 0, 0, 0, 0, 1, 1, 0, 1, 0, 0, 0, 0, 0, 0, 0, 0, 0, 0, 0, 0, 0, 0, 0, 0, 0, 0]\n"
     ]
    }
   ],
   "source": [
    "# Résultats pour l'instance inverse_strongly_correlated/knapPI_4_50_1000_1_-994.opb.txt\n",
    "ShowKnapResolutionResult(\"InstancesKnapSack/Uncorrelated/KnapSack_100_10000_-81021.opb.txt\")"
   ]
  },
  {
   "cell_type": "code",
   "execution_count": 29,
   "id": "8543f44c-c0b3-434b-8966-1481285e9696",
   "metadata": {},
   "outputs": [
    {
     "name": "stdout",
     "output_type": "stream",
     "text": [
      " Bénéfice maximale: 15785\n",
      " Objets mis dans le sac :\n",
      "[1, 0, 0, 0, 1, 0, 0, 0, 0, 0, 0, 0, 0, 0, 0, 0, 0, 0, 0, 0, 0, 0, 0, 1, 0, 1, 1, 0, 0, 0, 0, 0, 1, 0, 0, 0, 0, 0, 0, 0, 0, 0, 0, 0, 0, 0, 0, 0, 0, 0, 0, 0, 0, 0, 0, 0, 0, 0, 0, 0, 0, 0, 0, 0, 1, 0, 0, 0, 0, 0, 0, 0, 0, 0, 0, 0, 0, 0, 0, 0, 0, 0, 0, 0, 0, 0, 0, 0, 0, 0, 0, 0, 0, 0, 0, 1, 0, 0, 1, 0]\n"
     ]
    }
   ],
   "source": [
    "# Résultats pour l'instance inverse_strongly_correlated/knapPI_4_50_1000_1_-994.opb.txt\n",
    "ShowKnapResolutionResult(\"InstancesKnapSack/Weakly_Correlated/KnapSack_100_10000_-15785.opb.txt\")"
   ]
  },
  {
   "cell_type": "markdown",
   "id": "e09e3efd-02bf-4941-8d75-8f880fcd126c",
   "metadata": {},
   "source": [
    "### Réponses aux questions"
   ]
  },
  {
   "cell_type": "markdown",
   "id": "779b6f70-7436-4604-a418-5fc416821826",
   "metadata": {},
   "source": [
    "Q1)\n",
    "- La programmation dynamique est une méthode algorithmique qui consiste à diviser un problème en plusieurs sous-problèmes successifs, chaque sous-problème étant résolu de manière optimale en s'appuyant sur les résultats des sous-problèmes précédents. Elle est particulièrement utile pour résoudre des problèmes d'optimisation où la solution optimale globale peut être obtenue en combinant les solutions optimales des sous-problèmes.\n",
    "\n",
    "- La relation de récurrence est une équation qui définit la solution d’un problème en fonction des solutions de ses sous-problèmes. En programmation dynamique, cette relation joue un rôle essentiel, car elle décrit comment les solutions des sous-problèmes sont interconnectées et comment elles contribuent à la résolution du problème global.\n",
    "\n",
    "Q2/ Voir la fonction 'SolveKnapInstance'\n",
    "\n",
    "Q3/ Le résultat correspond bien à ce qu'on avait trouvé en utilisant l'algorithmme de Branch-and-Bound du TP2 et celle effectué en TD, avec un $bestProfit=65$ et les objets ajoutés au cartable sont le deuxième objet ($prix=40, poids=4)$ et le quatrième objet $(prix=25, poids=5)$ \n",
    "\n",
    "\n",
    "\n",
    "Q4)\n",
    "- Construction de la matrice des bénéfices : La première étape consiste à créer une matrice où chaque cellule indique le bénéfice maximal possible pour une capacité donnée du sac et un certain nombre d’objets pris en compte. Cela permet de décomposer le problème principal en plusieurs sous-problèmes et de calculer le meilleur bénéfice pour chacun.\n",
    "\n",
    "- Extraction du bénéfice optimal : Une fois la matrice remplie, le bénéfice maximal (bestProfit) est récupéré à partir de la dernière cellule, située à la position (n+1, capacite+1)\n",
    "\n",
    "- Identification des objets sélectionnés : Pour déterminer quels objets ont été choisis pour obtenir ce bénéfice optimal, une boucle est utilisée afin de remonter dans la matrice et identifier les éléments inclus dans la solution finale.\n",
    "\n",
    "Q5)\n",
    "Voir résultats des tests ci-dessus."
   ]
  },
  {
   "cell_type": "markdown",
   "id": "412d69c2-2ac5-45eb-a63a-dff2ea4d5928",
   "metadata": {},
   "source": [
    "### Comparaison : Programmation dynamique vs Branch-And-Bound "
   ]
  },
  {
   "cell_type": "code",
   "execution_count": 30,
   "id": "917249ac-30e2-4807-86a6-35725161744b",
   "metadata": {},
   "outputs": [
    {
     "data": {
      "text/plain": [
       "GetKnapResolutionTime (generic function with 1 method)"
      ]
     },
     "execution_count": 30,
     "metadata": {},
     "output_type": "execute_result"
    }
   ],
   "source": [
    "# Affichage du temps d'exécution de la fonction SolveKnapInstance pour une instance donnée\n",
    "function GetKnapResolutionTime(filename)\n",
    "    time = @elapsed solveKnapInstance(filename)\n",
    "    println(\"Temps d'exécution : \", time, \" secondes\")\n",
    "end"
   ]
  },
  {
   "cell_type": "code",
   "execution_count": 31,
   "id": "7110378d-be5c-43e8-862a-2088725cd76e",
   "metadata": {},
   "outputs": [
    {
     "name": "stdout",
     "output_type": "stream",
     "text": [
      "Temps d'exécution de l'instance Similar_Weights/KnapSack_100_1000_-995.opb.txt :\n",
      "Temps d'exécution : 0.226080284 secondes\n"
     ]
    }
   ],
   "source": [
    "# Retourne le temps d'éxécution de l'instance Similar_Weights/KnapSack_100_1000_-995.opb.txt\n",
    "println(\"Temps d'exécution de l'instance Similar_Weights/KnapSack_100_1000_-995.opb.txt :\")\n",
    "GetKnapResolutionTime(\"InstancesKnapSack/Similar_Weights/KnapSack_100_1000_-995.opb.txt\")"
   ]
  },
  {
   "cell_type": "code",
   "execution_count": 32,
   "id": "c0870a27-d2df-4629-a84f-d4ac69654933",
   "metadata": {},
   "outputs": [
    {
     "name": "stdout",
     "output_type": "stream",
     "text": [
      "Temps d'exécution de l'instance Strongly_Correlated/KnapSack_100_1000_-2397.opb.txt :\n",
      "Temps d'exécution : 0.003506872 secondes\n"
     ]
    }
   ],
   "source": [
    "# Retourne le temps d'éxécution de l'instance Strongly_Correlated/KnapSack_100_1000_-2397.opb.txt\n",
    "println(\"Temps d'exécution de l'instance Strongly_Correlated/KnapSack_100_1000_-2397.opb.txt :\")\n",
    "GetKnapResolutionTime(\"InstancesKnapSack/Strongly_Correlated/KnapSack_100_1000_-2397.opb.txt\")"
   ]
  },
  {
   "cell_type": "code",
   "execution_count": 33,
   "id": "5ba8f938-fde9-4080-9af5-19668e5d302b",
   "metadata": {},
   "outputs": [
    {
     "name": "stdout",
     "output_type": "stream",
     "text": [
      "Temps d'exécution de l'instance Uncorrelated/KnapSack_100_1000_-9147.opb.txt :\n",
      "Temps d'exécution : 0.003834071 secondes\n"
     ]
    }
   ],
   "source": [
    "# Retourne le temps d'éxécution de l'instance Uncorrelated/KnapSack_100_1000_-9147.opb.txt\n",
    "println(\"Temps d'exécution de l'instance Uncorrelated/KnapSack_100_1000_-9147.opb.txt :\")\n",
    "GetKnapResolutionTime(\"InstancesKnapSack/Uncorrelated/KnapSack_100_1000_-9147.opb.txt\")"
   ]
  },
  {
   "cell_type": "code",
   "execution_count": 34,
   "id": "76d24ed8-0c86-4440-912f-7860a7a3bca6",
   "metadata": {},
   "outputs": [
    {
     "name": "stdout",
     "output_type": "stream",
     "text": [
      "Temps d'exécution de l'instance Weakly_Correlated/KnapSack_100_1000_-1514.opb.txt :\n",
      "Temps d'exécution : 0.003382409 secondes\n"
     ]
    }
   ],
   "source": [
    "# Retourne le temps d'éxécution de l'instance Weakly_Correlated/KnapSack_100_1000_-1514.opb.txt\n",
    "println(\"Temps d'exécution de l'instance Weakly_Correlated/KnapSack_100_1000_-1514.opb.txt :\")\n",
    "GetKnapResolutionTime(\"InstancesKnapSack/Weakly_Correlated/KnapSack_100_1000_-1514.opb.txt\")"
   ]
  },
  {
   "cell_type": "markdown",
   "id": "19e56842-76e5-4e24-8af5-9d3729337ede",
   "metadata": {},
   "source": [
    "|                   | Similar_Weights            | Strongly_Correlated   |Uncorrelated                     | weakly_correlated      |\n",
    "| :---------------  | :------------------------- | :-------------------- | :------------------------------ | :--------------------- |\n",
    "| Nombre d'objet    |  100                       |100                    | 100                             | 100                    |\n",
    "| TP2               |  3.12ms                    |130.54ms               | 118.034ms                       | 28.82ms                |\n",
    "| TP3               |  123ms                     |1.5ms                  | 1.6ms                           | 1.6ms                  |"
   ]
  },
  {
   "cell_type": "markdown",
   "id": "6d4a57cb-15ae-4054-b8a5-2113231b220f",
   "metadata": {},
   "source": [
    "Nous remarquons que l'algorithme de la programmation dynamique est généralement plus rapide que celui du Branch-And-Bound sauf pour l'instance de similar weights."
   ]
  },
  {
   "cell_type": "markdown",
   "id": "ae14013f-2f9a-40c8-8628-489f94db9aca",
   "metadata": {},
   "source": [
    "### Bonus : Algorithme de Bellman-Ford pour le calcul du plus court chemin"
   ]
  },
  {
   "cell_type": "code",
   "execution_count": 35,
   "id": "53179523-54cd-412b-8caa-3f544ca60a11",
   "metadata": {},
   "outputs": [
    {
     "data": {
      "text/plain": [
       "bellman_ford (generic function with 1 method)"
      ]
     },
     "execution_count": 35,
     "metadata": {},
     "output_type": "execute_result"
    }
   ],
   "source": [
    "# Fonction de Bellman-Ford pour calculer les distances et les predecesseurs\n",
    "function bellman_ford(matrice_adj, source)\n",
    "    \n",
    "    # Nombre de sommets\n",
    "    nb_sommets = size(matrice_adj, 1)\n",
    "\n",
    "    # Tableau des distances de taille nb_sommets contenant que des infinies dans ses éléments\n",
    "    distances = fill(Inf, nb_sommets)\n",
    "\n",
    "    # Tableau des predecesseurs de taille nb_sommets contenant que des 0\n",
    "    predecessors = fill(0, nb_sommets)\n",
    "    \n",
    "    # Initialiser la distance du sommet source à 0\n",
    "    distances[source] = 0\n",
    "\n",
    "    # Boucle pour mettre à jour les distances et les predecesseurs\n",
    "    for i in 1:nb_sommets\n",
    "        for j in 1:nb_sommets\n",
    "            poids = matrice_adj[j, i]\n",
    "            if poids != Inf && distances[j] + poids < distances[i]\n",
    "                distances[i] = distances[j] + poids\n",
    "                predecessors[i] = j\n",
    "            end\n",
    "        end\n",
    "    end\n",
    "    \n",
    "    return distances, predecessors\n",
    "end"
   ]
  },
  {
   "cell_type": "code",
   "execution_count": 36,
   "id": "e963861a-eefe-4399-8299-fee1dbe2d6f2",
   "metadata": {},
   "outputs": [
    {
     "data": {
      "text/plain": [
       "chemin_plus_court (generic function with 1 method)"
      ]
     },
     "execution_count": 36,
     "metadata": {},
     "output_type": "execute_result"
    }
   ],
   "source": [
    "# Calcul du chemin le plus court entre deux sommets\n",
    "function chemin_plus_court(predecessors, sommet_depart, sommet_arrivee)\n",
    "    chemin = [sommet_arrivee]\n",
    "    sommet_actuel = sommet_arrivee\n",
    "    \n",
    "    while sommet_actuel != sommet_depart\n",
    "        sommet_actuel = predecessors[sommet_actuel]\n",
    "        pushfirst!(chemin, sommet_actuel)\n",
    "    end\n",
    "    \n",
    "    return chemin\n",
    "end"
   ]
  },
  {
   "cell_type": "code",
   "execution_count": 39,
   "id": "2cc9eb5b-27b4-48d5-bfbe-c0ca588a3f9e",
   "metadata": {},
   "outputs": [
    {
     "name": "stdout",
     "output_type": "stream",
     "text": [
      "Distances depuis le sommet 1 : [0.0, 3.0, 7.0, 9.0, 5.0, 12.0]\n",
      "Chemin optimal entre 1 et 6 : [1, 2, 3, 4, 6]\n",
      "Coût du chemin optimal : 12.0\n"
     ]
    }
   ],
   "source": [
    "# Test avec l'exemple donné\n",
    "matrice_adjacence = couts = [Inf 3 Inf Inf 5 Inf; Inf Inf 4 Inf Inf Inf; Inf Inf Inf 2 Inf Inf; Inf Inf Inf Inf Inf 3; Inf -1 Inf 9 Inf Inf; Inf Inf Inf Inf Inf Inf]\n",
    "source = 1\n",
    "destination = 6\n",
    "\n",
    "distances, predecessors = bellman_ford(matrice_adjacence, source)\n",
    "chemin_optimal = chemin_plus_court(predecessors, source, destination)\n",
    "\n",
    "println(\"Distances depuis le sommet $source : \", distances)\n",
    "println(\"Chemin optimal entre $source et $destination : \", chemin_optimal)\n",
    "println(\"Coût du chemin optimal : \", distances[destination])"
   ]
  },
  {
   "cell_type": "code",
   "execution_count": null,
   "id": "a403efcc-679b-46c3-ac0a-d4001882bbcd",
   "metadata": {},
   "outputs": [],
   "source": []
  },
  {
   "cell_type": "code",
   "execution_count": null,
   "id": "0e8801b9",
   "metadata": {},
   "outputs": [],
   "source": []
  }
 ],
 "metadata": {
  "kernelspec": {
   "display_name": "Julia 1.8.2 - N7",
   "language": "julia",
   "name": "julia-1.8-n7"
  },
  "language_info": {
   "file_extension": ".jl",
   "mimetype": "application/julia",
   "name": "julia",
   "version": "1.8.2"
  }
 },
 "nbformat": 4,
 "nbformat_minor": 5
}
