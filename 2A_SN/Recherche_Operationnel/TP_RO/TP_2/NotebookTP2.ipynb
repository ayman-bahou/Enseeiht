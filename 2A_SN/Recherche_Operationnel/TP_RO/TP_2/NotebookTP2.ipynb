{
 "cells": [
  {
   "cell_type": "markdown",
   "metadata": {},
   "source": [
    "# TP 2 : Branch-and-bound applied to a knapsack problem"
   ]
  },
  {
   "cell_type": "markdown",
   "metadata": {},
   "source": [
    "### Initialisation (à faire une seule fois)"
   ]
  },
  {
   "cell_type": "code",
   "execution_count": 1,
   "metadata": {},
   "outputs": [
    {
     "ename": "LoadError",
     "evalue": "SystemError: opening file \"/mnt/n7fs/ens/tp_cots/.julia/logs/manifest_usage.toml\": Permission non accordée",
     "output_type": "error",
     "traceback": [
      "SystemError: opening file \"/mnt/n7fs/ens/tp_cots/.julia/logs/manifest_usage.toml\": Permission non accordée",
      "",
      "Stacktrace:",
      "  [1] systemerror(p::String, errno::Int32; extrainfo::Nothing)",
      "    @ Base ./error.jl:176",
      "  [2] #systemerror#80",
      "    @ ./error.jl:175 [inlined]",
      "  [3] systemerror",
      "    @ ./error.jl:175 [inlined]",
      "  [4] open(fname::String; lock::Bool, read::Nothing, write::Nothing, create::Nothing, truncate::Nothing, append::Bool)",
      "    @ Base ./iostream.jl:293",
      "  [5] open(f::Pkg.Types.var\"#44#46\"{String}, args::String; kwargs::Base.Pairs{Symbol, Bool, Tuple{Symbol}, NamedTuple{(:append,), Tuple{Bool}}})",
      "    @ Base ./io.jl:382",
      "  [6] write_env_usage(source_file::String, usage_filepath::String)",
      "    @ Pkg.Types /mnt/n7fs/ens/tp_cots/julia-1.8.2/share/julia/stdlib/v1.8/Pkg/src/Types.jl:487",
      "  [7] Pkg.Types.EnvCache(env::Nothing)",
      "    @ Pkg.Types /mnt/n7fs/ens/tp_cots/julia-1.8.2/share/julia/stdlib/v1.8/Pkg/src/Types.jl:345",
      "  [8] EnvCache",
      "    @ /mnt/n7fs/ens/tp_cots/julia-1.8.2/share/julia/stdlib/v1.8/Pkg/src/Types.jl:325 [inlined]",
      "  [9] Pkg.Types.Context()",
      "    @ Pkg.Types ./util.jl:493",
      " [10] add(pkgs::Vector{Pkg.Types.PackageSpec}; io::IJulia.IJuliaStdio{Base.PipeEndpoint}, kwargs::Base.Pairs{Symbol, Union{}, Tuple{}, NamedTuple{(), Tuple{}}})",
      "    @ Pkg.API /mnt/n7fs/ens/tp_cots/julia-1.8.2/share/julia/stdlib/v1.8/Pkg/src/API.jl:147",
      " [11] add(pkgs::Vector{Pkg.Types.PackageSpec})",
      "    @ Pkg.API /mnt/n7fs/ens/tp_cots/julia-1.8.2/share/julia/stdlib/v1.8/Pkg/src/API.jl:145",
      " [12] #add#27",
      "    @ /mnt/n7fs/ens/tp_cots/julia-1.8.2/share/julia/stdlib/v1.8/Pkg/src/API.jl:144 [inlined]",
      " [13] add",
      "    @ /mnt/n7fs/ens/tp_cots/julia-1.8.2/share/julia/stdlib/v1.8/Pkg/src/API.jl:144 [inlined]",
      " [14] #add#26",
      "    @ /mnt/n7fs/ens/tp_cots/julia-1.8.2/share/julia/stdlib/v1.8/Pkg/src/API.jl:143 [inlined]",
      " [15] add(pkg::String)",
      "    @ Pkg.API /mnt/n7fs/ens/tp_cots/julia-1.8.2/share/julia/stdlib/v1.8/Pkg/src/API.jl:143",
      " [16] top-level scope",
      "    @ In[1]:5"
     ]
    }
   ],
   "source": [
    "DISPLAY_TREE = true\n",
    "if DISPLAY_TREE\n",
    "    # Les 2 lignes suivantes à décommenter sur les machines persos\n",
    "    import Pkg; \n",
    "    Pkg.add(\"GraphRecipes\"); Pkg.add(\"Plots\"); \n",
    "    using GraphRecipes, Plots #only used to visualize the search tree at the end of the branch-and-bound\n",
    "end"
   ]
  },
  {
   "cell_type": "markdown",
   "metadata": {},
   "source": [
    "### Récupération des données"
   ]
  },
  {
   "cell_type": "code",
   "execution_count": 2,
   "metadata": {},
   "outputs": [
    {
     "data": {
      "text/plain": [
       "readKnaptxtInstance (generic function with 1 method)"
      ]
     },
     "execution_count": 2,
     "metadata": {},
     "output_type": "execute_result"
    }
   ],
   "source": [
    "function readKnaptxtInstance(filename)\n",
    "    price=Int64[]\n",
    "    weight=Int64[]\n",
    "    KnapCap=Int64[]\n",
    "    open(filename) do f\n",
    "        for i in 1:3\n",
    "            tok = split(readline(f))\n",
    "            if(tok[1] == \"ListPrices=\")\n",
    "                for i in 2:(length(tok)-1)\n",
    "                    push!(price,parse(Int64, tok[i]))\n",
    "                end\n",
    "            elseif(tok[1] == \"ListWeights=\")\n",
    "                for i in 2:(length(tok)-1)\n",
    "                    push!(weight,parse(Int64, tok[i]))\n",
    "                end\n",
    "            elseif(tok[1] == \"Capacity=\")\n",
    "                push!(KnapCap, parse(Int64, tok[2]))\n",
    "            else\n",
    "                println(\"Unknown read :\", tok)\n",
    "            end\n",
    "        end\n",
    "    end\n",
    "    capacity=KnapCap[1]\n",
    "    return price, weight, capacity\n",
    "end"
   ]
  },
  {
   "cell_type": "markdown",
   "metadata": {},
   "source": [
    "### Tests de sondabilités TA, TO et TR basés sur le modèle linéaire"
   ]
  },
  {
   "cell_type": "code",
   "execution_count": 3,
   "metadata": {},
   "outputs": [
    {
     "data": {
      "text/plain": [
       "testSondability_LP (generic function with 1 method)"
      ]
     },
     "execution_count": 3,
     "metadata": {},
     "output_type": "execute_result"
    }
   ],
   "source": [
    "function testSondability_LP( capacity,  borne, BestProfit, Bestsol)\n",
    "   \n",
    "    TA, TO, TR = false, false, false\n",
    "    \n",
    "    \n",
    "\n",
    "    if capacity < 0                                                                   # Test d'Admissibilité\n",
    "        TA = true\n",
    "        \n",
    "        println(\"TA\")\n",
    "        \n",
    "    elseif (borne < BestProfit)  # Test d'optimalite\n",
    "        TO = true\n",
    "        \n",
    "        println(\"TO\")\n",
    "        \n",
    "    elseif (capacity == 0) || (borne == BestProfit)                                   # Test de resolution\n",
    "        TR = true\n",
    "        \n",
    "        println(\"TR\")\n",
    "       \n",
    "        \n",
    "    else\n",
    "        \n",
    "        println(\"non sondable\")\n",
    "        \n",
    "    end\n",
    "    return TA, TO, TR, Bestsol, BestProfit\n",
    "end"
   ]
  },
  {
   "cell_type": "markdown",
   "metadata": {},
   "source": [
    "## Procédure de séparation (branching) et stratégie d'exploration permettant de se placer au prochain noeud à traiter"
   ]
  },
  {
   "cell_type": "code",
   "execution_count": 4,
   "metadata": {},
   "outputs": [
    {
     "data": {
      "text/plain": [
       "exploreNextNode_depthfirst! (generic function with 1 method)"
      ]
     },
     "execution_count": 4,
     "metadata": {},
     "output_type": "execute_result"
    }
   ],
   "source": [
    "function separateNodeThenchooseNext_lexicographic_depthfirst!(listobjs, listvals, n)\n",
    "    # this node is non-sondable. Apply the branching criterion to separate it into two subnodes\n",
    "    # and choose the child-node at the left\n",
    "\n",
    "    # lexicographic branching criterion: branch on the 1st object not yet fixed\n",
    "    i, obj = 1, 0\n",
    "    while((i <= n) && (obj==0))\n",
    "        if(!(i in listobjs))\n",
    "            obj=i\n",
    "        end\n",
    "        i+=1\n",
    "    end\n",
    "\n",
    "    println(\"\\nbranch on object \", obj, \"\\n\")\n",
    "\n",
    "    # depthfirst exploration strategy: the node selected will be the most left of the child-nodes just created\n",
    "    push!(listobjs,obj) #save the identity of the object selected for branching\n",
    "    push!(listvals,1.0) #save the node selected, identified by the value assigned to the variable/object chosen\n",
    "end\n",
    "\n",
    "\n",
    "function exploreNextNode_depthfirst!(listobjs, listvals, listnodes)\n",
    "    #this node is sondable, go back to parent node then right child if possible\n",
    "\n",
    "    stop=false\n",
    "    #check if we are not at the root node\n",
    "    if (length(listobjs)>= 1)\n",
    "        #go back to parent node\n",
    "        obj=pop!(listobjs)\n",
    "        theval=pop!(listvals)\n",
    "        tmp=pop!(listnodes)\n",
    "\n",
    "        #go to right child if possible, otherwise go back to parent\n",
    "        while( (theval==0.0) && (length(listobjs)>= 1))\n",
    "            obj=pop!(listobjs)\n",
    "            theval=pop!(listvals)\n",
    "            tmp=pop!(listnodes)\n",
    "        end\n",
    "        if theval==1.0\n",
    "            push!(listobjs,obj)\n",
    "            push!(listvals,0.0)\n",
    "        else\n",
    "            println(\"\\nFINISHED\")\n",
    "            stop=true\n",
    "        end\n",
    "    else\n",
    "        #the root node was sondable\n",
    "        println(\"\\nFINISHED\")\n",
    "        stop=true\n",
    "    end\n",
    "    return stop\n",
    "end"
   ]
  },
  {
   "cell_type": "markdown",
   "metadata": {},
   "source": [
    "###  Création de la relaxation linéaire (= modèle associé au noeud 0): "
   ]
  },
  {
   "cell_type": "code",
   "execution_count": 5,
   "metadata": {},
   "outputs": [
    {
     "data": {
      "text/plain": [
       "Bornes (generic function with 1 method)"
      ]
     },
     "execution_count": 5,
     "metadata": {},
     "output_type": "execute_result"
    }
   ],
   "source": [
    "function Bornes(price, weight, capacity, listobjs, listvals, BestProfit, Bestsol, option)\n",
    "    \n",
    "    borne = 0\n",
    "    prix = 0\n",
    "    max = 0\n",
    "\n",
    "    if option == 1\n",
    "        weightAct = 0\n",
    "        priceAct = 0\n",
    "        for i in 1:length(listobjs)\n",
    "            if listvals[i] == 1\n",
    "                if weightAct + weight[listobjs[i]] <= capacity\n",
    "                    weightAct += weight[listobjs[i]]\n",
    "                    priceAct += price[listobjs[i]]\n",
    "                end\n",
    "            end \n",
    "        end\n",
    "    \n",
    "        if priceAct >= BestProfit\n",
    "            Bestsol = copy(listobjs)\n",
    "            BestProfit = priceAct\n",
    "        end\n",
    "            \n",
    "        if (length(listobjs) < length(price)) \n",
    "            for i in (length(listobjs)+1):length(price)\n",
    "                r = price[i]/weight[i]\n",
    "                if (!(i in listobjs)) \n",
    "                    if r > max        \n",
    "                        max = r\n",
    "                    end     \n",
    "                end\n",
    "            end\n",
    "            borne = prix + max*capacity\n",
    "        else\n",
    "            borne = prix\n",
    "        end\n",
    "        \n",
    "    elseif option == 2\n",
    "        for i in 1:length(listobjs)\n",
    "            if listvals[i] == 1\n",
    "                capacity = capacity - weight[listobjs[i]]\n",
    "                println(\"Capacity = \", capacity)\n",
    "                prix = prix + price[listobjs[i]]\n",
    "                \n",
    "            end\n",
    "        end\n",
    "    \n",
    "        deleteat!(price, listobjs)\n",
    "        deleteat!(weight, listobjs)\n",
    "    \n",
    "        if capacity >= 0\n",
    "            if prix > BestProfit\n",
    "                BestProfit = prix\n",
    "                Bestsol = copy(listobjs)\n",
    "            end\n",
    "        end\n",
    "        \n",
    "        \n",
    "        # Ratio\n",
    "        r = price./weight\n",
    "        listR = [(r[i], weight[i]) for i in 1:length(price)]\n",
    "        listR = sort(listR, by = x -> x[1], rev=true)\n",
    "        prix1 = 0\n",
    "\n",
    "        for i in 1:length(listR)\n",
    "            if listR[i][2] <= capacity\n",
    "                prix1 = prix1 + listR[i][1]*listR[i][2]\n",
    "                capacity = capacity - listR[i][2]\n",
    "            else\n",
    "                break\n",
    "            end\n",
    "        end\n",
    "\n",
    "        borne = prix + prix1\n",
    "    end\n",
    "\n",
    "return borne, capacity, BestProfit, Bestsol\n",
    "\n",
    "end"
   ]
  },
  {
   "cell_type": "markdown",
   "metadata": {},
   "source": [
    "### Boucle principale : résoudre une relaxation, appliquer les tests de sondabilité, identifier le prochain noeud, répéter."
   ]
  },
  {
   "cell_type": "code",
   "execution_count": 6,
   "metadata": {},
   "outputs": [
    {
     "data": {
      "text/plain": [
       "solveKnapInstance (generic function with 1 method)"
      ]
     },
     "execution_count": 6,
     "metadata": {},
     "output_type": "execute_result"
    }
   ],
   "source": [
    "function solveKnapInstance(filename, option)\n",
    "\n",
    "    price, weight, capacity = readKnaptxtInstance(filename)\n",
    "    n = length(price)\n",
    "\n",
    "    #model2, x = createModel_LP(price, weight, capacity)\n",
    "\n",
    "    #create the structure to memorize the search tree for visualization at the end\n",
    "    trParentnodes=Int64[] #will store orig node of arc in search tree\n",
    "    trChildnodes=Int64[] #will store destination node of arc in search tree\n",
    "    trNamenodes=[] #will store names of nodes in search tree\n",
    "\n",
    "    #intermediate structure to navigate in the search tree\n",
    "    listobjs=Int64[]\n",
    "    listvals=Float64[]\n",
    "    listnodes=Int64[]\n",
    "\n",
    "    BestProfit::Float64=-1.0\n",
    "    Bestsol=Float64[]\n",
    "\n",
    "    current_node_number::Int64=0\n",
    "    stop = false\n",
    "\n",
    "    while(!stop)\n",
    "\n",
    "        println(\"\\nNode number \", current_node_number, \" : \\n---------------\\n\")\n",
    "\n",
    "        #Update the graphical tree\n",
    "        push!(trNamenodes,current_node_number+1) \n",
    "        if(length(trNamenodes)>=2)\n",
    "            push!(trParentnodes,listnodes[end]+1) # +1 because the 1st node is \"node 0\"\n",
    "            push!(trChildnodes, current_node_number+1) # +1 because the 1st node is \"node 0\"\n",
    "        end\n",
    "        push!(listnodes, current_node_number)\n",
    "\n",
    "        \n",
    "        #create LP of current node\n",
    "        #updateModele_LP!(model2, x, listobjs, listvals)\n",
    "        \n",
    "        #println(model2)\n",
    "        \n",
    "        print(\"Solve the LP model of the current node to compute its bound: start ...\\n\\n\")\n",
    "\n",
    "        #status = optimize!(model2)\n",
    "\n",
    "        \n",
    "        priceAct = deepcopy(price)\n",
    "        weightAct = deepcopy(weight)\n",
    "        capacityAct = capacity\n",
    "        \n",
    "        borne, capacityAc, Bestp, BestS = Bornes(priceAct, weightAct, capacityAct, listobjs,listvals, BestProfit, Bestsol, option)\n",
    "\n",
    "        BestProfit = Bestp\n",
    "\n",
    "        Bestsol = BestS\n",
    "\n",
    "\n",
    "\n",
    "        TA, TO, TR = testSondability_LP( capacityAc,  borne, Bestp, BestS)\n",
    "\n",
    "        is_node_sondable = TA || TO || TR\n",
    "\n",
    "        #Reset_LP!(model2, x, listobjs)\n",
    "\n",
    "        if(!is_node_sondable)\n",
    "            separateNodeThenchooseNext_lexicographic_depthfirst!(listobjs, listvals, length(price))\n",
    "        else\n",
    "            stop = exploreNextNode_depthfirst!(listobjs, listvals, listnodes)\n",
    "        end\n",
    "        \n",
    "        #resetAll_LP!(model2, x)\n",
    "\n",
    "        current_node_number = current_node_number + 1\n",
    "    end\n",
    "\n",
    "    println(\"\\n******\\n\\nOptimal value = \", BestProfit, \"\\n\\nOptimal x = \", Bestsol)\n",
    "\n",
    "    return BestProfit, Bestsol, trParentnodes, trChildnodes, trNamenodes\n",
    "\n",
    "end\n"
   ]
  },
  {
   "cell_type": "markdown",
   "metadata": {},
   "source": [
    "### Affichage du résultat final"
   ]
  },
  {
   "cell_type": "code",
   "execution_count": 7,
   "metadata": {},
   "outputs": [
    {
     "data": {
      "text/plain": [
       "solveNdisplayKnap (generic function with 1 method)"
      ]
     },
     "execution_count": 7,
     "metadata": {},
     "output_type": "execute_result"
    }
   ],
   "source": [
    "function solveNdisplayKnap(filename)\n",
    "\n",
    "    println(\"\\nBranch-and-Bound for solving a knapsack problem. \\n\\nSolving instance '\" * filename * \"'\\n\")\n",
    "\n",
    "    # Option 1\n",
    "    println(\"***** using option 1 *****\")\n",
    "    BestProfit, Bestsol, trParentnodes, trChildnodes, trNamenodes = @time solveKnapInstance(filename, 1)\n",
    "    \n",
    "    # Affichage de l'arbre\n",
    "    println(\"\\n Branch-and-bound tree visualization : start display ...\")\n",
    "    display(graphplot(trParentnodes, trChildnodes, names=trNamenodes, method=:tree))\n",
    "    println(\"... end display. \\n\\n\")\n",
    "\n",
    "    println(\"-----------------------------------------------\\n\")\n",
    "\n",
    "    # Option 2\n",
    "    println(\"***** using option 2 *****\")\n",
    "    BestProfit, Bestsol, trParentnodes, trChildnodes, trNamenodes = @time solveKnapInstance(filename, 2)\n",
    "\n",
    "    # Affichage de l'arbre\n",
    "    println(\"\\n Branch-and-bound tree visualization : start display ...\")\n",
    "    display(graphplot(trParentnodes, trChildnodes, names=trNamenodes, method=:tree))\n",
    "    println(\"... end display. \\n\\n\")\n",
    "\n",
    "end"
   ]
  },
  {
   "cell_type": "code",
   "execution_count": 8,
   "metadata": {},
   "outputs": [
    {
     "name": "stdout",
     "output_type": "stream",
     "text": [
      "\n",
      "Branch-and-Bound for solving a knapsack problem. \n",
      "\n",
      "Solving instance 'test.opb.txt'\n",
      "\n",
      "***** using option 1 *****\n",
      "\n",
      "Node number 0 : \n",
      "---------------\n",
      "\n",
      "Solve the LP model of the current node to compute its bound: start ...\n",
      "\n",
      "non sondable\n",
      "\n",
      "branch on object 1\n",
      "\n",
      "\n",
      "Node number 1 : \n",
      "---------------\n",
      "\n",
      "Solve the LP model of the current node to compute its bound: start ...\n",
      "\n",
      "non sondable\n",
      "\n",
      "branch on object 2\n",
      "\n",
      "\n",
      "Node number 2 : \n",
      "---------------\n",
      "\n",
      "Solve the LP model of the current node to compute its bound: start ...\n",
      "\n",
      "non sondable\n",
      "\n",
      "branch on object 3\n",
      "\n",
      "\n",
      "Node number 3 : \n",
      "---------------\n",
      "\n",
      "Solve the LP model of the current node to compute its bound: start ...\n",
      "\n",
      "TO\n",
      "\n",
      "Node number 4 : \n",
      "---------------\n",
      "\n",
      "Solve the LP model of the current node to compute its bound: start ...\n",
      "\n",
      "TO\n",
      "\n",
      "Node number 5 : \n",
      "---------------\n",
      "\n",
      "Solve the LP model of the current node to compute its bound: start ...\n",
      "\n",
      "TO\n",
      "\n",
      "Node number 6 : \n",
      "---------------\n",
      "\n",
      "Solve the LP model of the current node to compute its bound: start ...\n",
      "\n",
      "non sondable\n",
      "\n",
      "branch on object 2\n",
      "\n",
      "\n",
      "Node number 7 : \n",
      "---------------\n",
      "\n",
      "Solve the LP model of the current node to compute its bound: start ...\n",
      "\n",
      "TO\n",
      "\n",
      "Node number 8 : \n",
      "---------------\n",
      "\n",
      "Solve the LP model of the current node to compute its bound: start ...\n",
      "\n",
      "TO\n",
      "\n",
      "FINISHED\n",
      "\n",
      "******\n",
      "\n",
      "Optimal value = 54.0\n",
      "\n",
      "Optimal x = [1, 2, 3]\n",
      "  0.228010 seconds (313.80 k allocations: 15.867 MiB, 99.17% compilation time)\n",
      "\n",
      " Branch-and-bound tree visualization : start display ...\n"
     ]
    },
    {
     "ename": "LoadError",
     "evalue": "UndefVarError: graphplot not defined",
     "output_type": "error",
     "traceback": [
      "UndefVarError: graphplot not defined",
      "",
      "Stacktrace:",
      " [1] solveNdisplayKnap(filename::String)",
      "   @ Main ./In[7]:11",
      " [2] top-level scope",
      "   @ In[8]:2"
     ]
    }
   ],
   "source": [
    "INSTANCE = \"test.opb.txt\"\n",
    "solveNdisplayKnap(INSTANCE)\n",
    "println(\"press enter to exit ! \")\n"
   ]
  },
  {
   "cell_type": "markdown",
   "metadata": {},
   "source": [
    "### Questions préliminaires\n"
   ]
  },
  {
   "cell_type": "markdown",
   "metadata": {},
   "source": [
    "### Résultats "
   ]
  },
  {
   "cell_type": "markdown",
   "metadata": {},
   "source": [
    "Questions préliminaires\n",
    "- Q1. La règle de séparation utilisée est la règle lexicographique, qui consiste à sélectionner les objets dans l'ordre défini par leur position. Autrement dit, on choisit en priorité le premier objet non encore inclus dans la solution.\n",
    "\n",
    "- Q2. La borne supérieure est obtenue en résolvant la relaxation linéaire du problème. Cela consiste à fixer les variables des objets déjà inclus à 111 et celles des objets exclus à 000.\n",
    "\n",
    "- Q3.\n",
    "\n",
    "Test d’Admissibilité (TA) : Une solution est admissible si la relaxation linéaire du problème fournit une solution faisable.\n",
    "\n",
    "Test d’Optimalité (TO) : Un nœud est abandonné si la borne supérieure calculée pour ce nœud est inférieure au profit maximal déjà trouvé.\n",
    "\n",
    "Test de Relaxation (TR) : Ce test est validé si la solution obtenue par la relaxation linéaire est entière.\n",
    "\n",
    "- Q4. La stratégie d’exploration adoptée est celle de recherche en profondeur, aussi appelée Depth-First Search (DFS).\n",
    "\n",
    "\n",
    "\n",
    "\n",
    "\n",
    "Code et Analyse\n",
    "- Q1/Q2. Les calculs des bornes supérieures sont implémentés dans la fonction Bornes.\n",
    "\n",
    "- Q3.\n",
    "\n",
    "Règle de Séparation : L’algorithme conserve l’ordre lexicographique pour choisir les objets à brancher.\n",
    "\n",
    "Test d’Admissibilité (TA) : Ce test réussit si la capacité restante du sac devient négative, ce qui indique que le sac dépasse sa capacité.\n",
    "\n",
    "Test d’Optimalité (TO) : Le test est validé si la borne supérieure calculée pour un nœud est inférieure à la meilleure solution trouvée jusqu’à présent.\n",
    "\n",
    "Test de Relaxation (TR) : Ce test est validé si une solution évidente est trouvée, comme lorsque la capacité restante est nulle ou si la solution actuelle est identique à une solution déjà identifiée.\n",
    "\n",
    "Stratégie d’Exploration : L’algorithme utilise la stratégie de recherche en profondeur (DFS).\n",
    "\n",
    "- Q4.\n",
    "\n",
    "Calcul de la borne supérieure : Deux méthodes sont implémentées. La première (option 1) utilise une approche gloutonne en remplissant le sac avec les objets ayant le meilleur ratio prix/poids, en fonction de la capacité restante. La seconde (option 2) trie les objets par ratio prix/poids et calcule la borne en conséquence.\n",
    "\n",
    "Règle de séparation : La séparation des nœuds est effectuée en fonction de l’ordre lexicographique ou selon la stratégie de recherche en profondeur. Si un nœud n’est pas sondable, de nouvelles branches sont créées.\n",
    "\n",
    "Test d’abandon : Trois types de tests sont appliqués pour déterminer si un nœud doit être ignoré :\n",
    "\n",
    "Faisabilité (TA),\n",
    "\n",
    "Optimalité (TO),\n",
    "\n",
    "Relaxation (TR).\n",
    "\n",
    "Stratégie d’exploration : La recherche suit l’ordre lexicographique ou privilégie les branches les plus profondes en premier (DFS).\n",
    "\n",
    "Graphe de recherche : Les structures de données trParentnodes, trChildnodes et trNamenodes sont utilisées pour représenter les relations entre les nœuds du graphe, facilitant la visualisation et la gestion du graphe de recherche.\n",
    "\n",
    "Choix des structures de données : Les listes, comme listobjs et listvals, stockent les informations liées aux objets et leurs valeurs. Les variables importantes, telles que BestProfit et BestSol, sont passées en paramètre pour permettre leur mise à jour directe dans les fonctions. La simplicité et la lisibilité du code sont privilégiées, avec une gestion du graphe basée sur des listes pour représenter les relations parent-enfant.\n",
    "\n",
    "- Q5. Les performances montrent que l’utilisation de la borne 1 est plus efficace que celle de la borne 2 en termes de temps d’exécution, ce qui semble cohérent avec les propriétés de chaque méthode."
   ]
  },
  {
   "cell_type": "markdown",
   "metadata": {},
   "source": []
  },
  {
   "cell_type": "code",
   "execution_count": null,
   "metadata": {},
   "outputs": [],
   "source": []
  }
 ],
 "metadata": {
  "kernelspec": {
   "display_name": "Julia 1.8.2 - N7",
   "language": "julia",
   "name": "julia-1.8-n7"
  },
  "language_info": {
   "file_extension": ".jl",
   "mimetype": "application/julia",
   "name": "julia",
   "version": "1.8.2"
  }
 },
 "nbformat": 4,
 "nbformat_minor": 4
}
